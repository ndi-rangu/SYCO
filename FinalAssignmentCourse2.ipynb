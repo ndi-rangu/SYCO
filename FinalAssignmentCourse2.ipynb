{
  "metadata": {
    "language_info": {
      "codemirror_mode": {
        "name": "python",
        "version": 3
      },
      "file_extension": ".py",
      "mimetype": "text/x-python",
      "name": "python",
      "nbconvert_exporter": "python",
      "pygments_lexer": "ipython3",
      "version": "3.8"
    },
    "kernelspec": {
      "name": "python",
      "display_name": "Pyolite",
      "language": "python"
    }
  },
  "nbformat_minor": 4,
  "nbformat": 4,
  "cells": [
    {
      "cell_type": "markdown",
      "source": "# My Jupyter Notebook on IBM WAtson Studio",
      "metadata": {}
    },
    {
      "cell_type": "markdown",
      "source": "__Brian Ndirangu__\nOccupation: Student",
      "metadata": {}
    },
    {
      "cell_type": "markdown",
      "source": "_I am interested in data science because it will become one of the sexiest job and be currently all data scientist are being payed well_",
      "metadata": {}
    },
    {
      "cell_type": "markdown",
      "source": "### my code is suppose to multiply 6*10 go give you 60",
      "metadata": {}
    },
    {
      "cell_type": "code",
      "source": "num1=6\nnum2=10\nprint(num1*num2)",
      "metadata": {
        "trusted": true
      },
      "execution_count": 5,
      "outputs": [
        {
          "name": "stdout",
          "text": "60\n",
          "output_type": "stream"
        }
      ]
    },
    {
      "cell_type": "markdown",
      "source": "| NAME  | GENDER | HOBBY      |\n|------ |--------|------------|\n| Brian | Male   | Gaming     |\n| Zippy | Female | Travelling |\n| Ali   | Male   | Football   |\n\nhttps://onepiece.fandom.com/wiki/One_Piece_Film:_Red\n\nFc Bayern Munchen\n\n---\n\nFc Barcelona\n\n***\n\nInternationale Milano\n\n___\n\nFC Viktoria PLzen",
      "metadata": {}
    }
  ]
}